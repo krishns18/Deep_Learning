{
  "nbformat": 4,
  "nbformat_minor": 0,
  "metadata": {
    "colab": {
      "name": "Sarcasm.ipynb",
      "provenance": [],
      "authorship_tag": "ABX9TyMo4AhSZZDq8HkJAHPZwYjL",
      "include_colab_link": true
    },
    "kernelspec": {
      "name": "python3",
      "display_name": "Python 3"
    }
  },
  "cells": [
    {
      "cell_type": "markdown",
      "metadata": {
        "id": "view-in-github",
        "colab_type": "text"
      },
      "source": [
        "<a href=\"https://colab.research.google.com/github/krishns18/Deep_Learning/blob/master/Tensorflow/Sarcasm.ipynb\" target=\"_parent\"><img src=\"https://colab.research.google.com/assets/colab-badge.svg\" alt=\"Open In Colab\"/></a>"
      ]
    },
    {
      "cell_type": "code",
      "metadata": {
        "id": "I6SYfwT91Aps",
        "colab_type": "code",
        "colab": {}
      },
      "source": [
        "import json\n",
        "import tensorflow as tf\n",
        "\n",
        "from tensorflow.keras.preprocessing.text import Tokenizer\n",
        "from tensorflow.keras.preprocessing.sequence import pad_sequences"
      ],
      "execution_count": 1,
      "outputs": []
    },
    {
      "cell_type": "code",
      "metadata": {
        "id": "0ShZ51sH1NJC",
        "colab_type": "code",
        "colab": {}
      },
      "source": [
        "# Parameters\n",
        "vocab_size = 10000\n",
        "embedding_dim = 16\n",
        "max_length = 100\n",
        "trunc_type='post'\n",
        "padding_type='post'\n",
        "oov_tok = \"<OOV>\"\n",
        "training_size = 20000"
      ],
      "execution_count": 2,
      "outputs": []
    },
    {
      "cell_type": "code",
      "metadata": {
        "id": "Mpp6TxAb1Szc",
        "colab_type": "code",
        "colab": {
          "base_uri": "https://localhost:8080/",
          "height": 208
        },
        "outputId": "7532e719-d44f-48a0-f95a-2667626c177d"
      },
      "source": [
        "!wget --no-check-certificate \\\n",
        "    https://storage.googleapis.com/laurencemoroney-blog.appspot.com/sarcasm.json \\\n",
        "    -O /tmp/sarcasm.json"
      ],
      "execution_count": 3,
      "outputs": [
        {
          "output_type": "stream",
          "text": [
            "--2020-09-09 21:46:10--  https://storage.googleapis.com/laurencemoroney-blog.appspot.com/sarcasm.json\n",
            "Resolving storage.googleapis.com (storage.googleapis.com)... 108.177.119.128, 108.177.126.128, 108.177.127.128, ...\n",
            "Connecting to storage.googleapis.com (storage.googleapis.com)|108.177.119.128|:443... connected.\n",
            "HTTP request sent, awaiting response... 200 OK\n",
            "Length: 5643545 (5.4M) [application/json]\n",
            "Saving to: ‘/tmp/sarcasm.json’\n",
            "\n",
            "\r/tmp/sarcasm.json     0%[                    ]       0  --.-KB/s               \r/tmp/sarcasm.json   100%[===================>]   5.38M  --.-KB/s    in 0.05s   \n",
            "\n",
            "2020-09-09 21:46:10 (105 MB/s) - ‘/tmp/sarcasm.json’ saved [5643545/5643545]\n",
            "\n"
          ],
          "name": "stdout"
        }
      ]
    },
    {
      "cell_type": "code",
      "metadata": {
        "id": "202Qg4IG1U1L",
        "colab_type": "code",
        "colab": {}
      },
      "source": [
        "# Read the file\n",
        "with open(\"/tmp/sarcasm.json\", 'r') as f:\n",
        "    datastore = json.load(f)\n",
        "\n",
        "sentences = []\n",
        "labels = []\n",
        "\n",
        "for item in datastore:\n",
        "    sentences.append(item['headline'])\n",
        "    labels.append(item['is_sarcastic'])"
      ],
      "execution_count": 4,
      "outputs": []
    },
    {
      "cell_type": "code",
      "metadata": {
        "id": "rl24uDZg1YL2",
        "colab_type": "code",
        "colab": {}
      },
      "source": [
        "# Get training and test sequences\n",
        "training_sentences = sentences[0:training_size]\n",
        "testing_sentences = sentences[training_size:]\n",
        "training_labels = labels[0:training_size]\n",
        "testing_labels = labels[training_size:]"
      ],
      "execution_count": 5,
      "outputs": []
    },
    {
      "cell_type": "code",
      "metadata": {
        "id": "9Tiz_eJ91b8V",
        "colab_type": "code",
        "colab": {}
      },
      "source": [
        "# Tokenizer\n",
        "tokenizer = Tokenizer(num_words=vocab_size, oov_token=oov_tok)\n",
        "tokenizer.fit_on_texts(training_sentences)\n",
        "\n",
        "word_index = tokenizer.word_index\n",
        "\n",
        "training_sequences = tokenizer.texts_to_sequences(training_sentences)\n",
        "training_padded = pad_sequences(training_sequences, maxlen=max_length, padding=padding_type, truncating=trunc_type)\n",
        "\n",
        "testing_sequences = tokenizer.texts_to_sequences(testing_sentences)\n",
        "testing_padded = pad_sequences(testing_sequences, maxlen=max_length, padding=padding_type, truncating=trunc_type)"
      ],
      "execution_count": 6,
      "outputs": []
    },
    {
      "cell_type": "code",
      "metadata": {
        "id": "JGeNBH771fHg",
        "colab_type": "code",
        "colab": {}
      },
      "source": [
        "# Need this block to get it to work with TensorFlow 2.x\n",
        "import numpy as np\n",
        "training_padded = np.array(training_padded)\n",
        "training_labels = np.array(training_labels)\n",
        "testing_padded = np.array(testing_padded)\n",
        "testing_labels = np.array(testing_labels)"
      ],
      "execution_count": 7,
      "outputs": []
    },
    {
      "cell_type": "code",
      "metadata": {
        "id": "iksKBk_g1hXl",
        "colab_type": "code",
        "colab": {}
      },
      "source": [
        "# Define the model\n",
        "model = tf.keras.Sequential([\n",
        "    tf.keras.layers.Embedding(vocab_size, embedding_dim, input_length=max_length),\n",
        "    tf.keras.layers.GlobalAveragePooling1D(),\n",
        "    tf.keras.layers.Dense(24, activation='relu'),\n",
        "    tf.keras.layers.Dense(1, activation='sigmoid')\n",
        "])\n",
        "model.compile(loss='binary_crossentropy',optimizer='adam',metrics=['accuracy'])"
      ],
      "execution_count": 8,
      "outputs": []
    },
    {
      "cell_type": "code",
      "metadata": {
        "id": "uhuMy-K31k0e",
        "colab_type": "code",
        "colab": {
          "base_uri": "https://localhost:8080/",
          "height": 295
        },
        "outputId": "66e4a4cd-ace0-4e1a-c314-30e44659019e"
      },
      "source": [
        "# Get the model summary\n",
        "model.summary()"
      ],
      "execution_count": 9,
      "outputs": [
        {
          "output_type": "stream",
          "text": [
            "Model: \"sequential\"\n",
            "_________________________________________________________________\n",
            "Layer (type)                 Output Shape              Param #   \n",
            "=================================================================\n",
            "embedding (Embedding)        (None, 100, 16)           160000    \n",
            "_________________________________________________________________\n",
            "global_average_pooling1d (Gl (None, 16)                0         \n",
            "_________________________________________________________________\n",
            "dense (Dense)                (None, 24)                408       \n",
            "_________________________________________________________________\n",
            "dense_1 (Dense)              (None, 1)                 25        \n",
            "=================================================================\n",
            "Total params: 160,433\n",
            "Trainable params: 160,433\n",
            "Non-trainable params: 0\n",
            "_________________________________________________________________\n"
          ],
          "name": "stdout"
        }
      ]
    },
    {
      "cell_type": "code",
      "metadata": {
        "id": "_a_8p6FR1nsK",
        "colab_type": "code",
        "colab": {
          "base_uri": "https://localhost:8080/",
          "height": 1000
        },
        "outputId": "d14101b1-a3f8-4602-fff9-4fb6d9793f19"
      },
      "source": [
        "# Train the model\n",
        "num_epochs = 30\n",
        "history = model.fit(training_padded, training_labels, epochs=num_epochs, validation_data=(testing_padded, testing_labels), verbose=2)"
      ],
      "execution_count": 10,
      "outputs": [
        {
          "output_type": "stream",
          "text": [
            "Epoch 1/30\n",
            "625/625 - 2s - loss: 0.6587 - accuracy: 0.5961 - val_loss: 0.5579 - val_accuracy: 0.7939\n",
            "Epoch 2/30\n",
            "625/625 - 2s - loss: 0.4090 - accuracy: 0.8376 - val_loss: 0.3844 - val_accuracy: 0.8289\n",
            "Epoch 3/30\n",
            "625/625 - 2s - loss: 0.3010 - accuracy: 0.8795 - val_loss: 0.3624 - val_accuracy: 0.8383\n",
            "Epoch 4/30\n",
            "625/625 - 2s - loss: 0.2530 - accuracy: 0.8995 - val_loss: 0.3434 - val_accuracy: 0.8518\n",
            "Epoch 5/30\n",
            "625/625 - 2s - loss: 0.2170 - accuracy: 0.9161 - val_loss: 0.3627 - val_accuracy: 0.8427\n",
            "Epoch 6/30\n",
            "625/625 - 2s - loss: 0.1901 - accuracy: 0.9270 - val_loss: 0.3517 - val_accuracy: 0.8544\n",
            "Epoch 7/30\n",
            "625/625 - 2s - loss: 0.1681 - accuracy: 0.9359 - val_loss: 0.3662 - val_accuracy: 0.8545\n",
            "Epoch 8/30\n",
            "625/625 - 2s - loss: 0.1500 - accuracy: 0.9454 - val_loss: 0.3829 - val_accuracy: 0.8521\n",
            "Epoch 9/30\n",
            "625/625 - 2s - loss: 0.1348 - accuracy: 0.9518 - val_loss: 0.4032 - val_accuracy: 0.8506\n",
            "Epoch 10/30\n",
            "625/625 - 2s - loss: 0.1253 - accuracy: 0.9554 - val_loss: 0.4273 - val_accuracy: 0.8459\n",
            "Epoch 11/30\n",
            "625/625 - 2s - loss: 0.1106 - accuracy: 0.9621 - val_loss: 0.4558 - val_accuracy: 0.8429\n",
            "Epoch 12/30\n",
            "625/625 - 2s - loss: 0.1001 - accuracy: 0.9660 - val_loss: 0.4737 - val_accuracy: 0.8433\n",
            "Epoch 13/30\n",
            "625/625 - 2s - loss: 0.0902 - accuracy: 0.9696 - val_loss: 0.4990 - val_accuracy: 0.8422\n",
            "Epoch 14/30\n",
            "625/625 - 2s - loss: 0.0825 - accuracy: 0.9729 - val_loss: 0.5696 - val_accuracy: 0.8250\n",
            "Epoch 15/30\n",
            "625/625 - 2s - loss: 0.0746 - accuracy: 0.9751 - val_loss: 0.5592 - val_accuracy: 0.8359\n",
            "Epoch 16/30\n",
            "625/625 - 2s - loss: 0.0699 - accuracy: 0.9768 - val_loss: 0.5964 - val_accuracy: 0.8348\n",
            "Epoch 17/30\n",
            "625/625 - 2s - loss: 0.0635 - accuracy: 0.9797 - val_loss: 0.6205 - val_accuracy: 0.8344\n",
            "Epoch 18/30\n",
            "625/625 - 2s - loss: 0.0570 - accuracy: 0.9821 - val_loss: 0.6578 - val_accuracy: 0.8319\n",
            "Epoch 19/30\n",
            "625/625 - 2s - loss: 0.0535 - accuracy: 0.9847 - val_loss: 0.6858 - val_accuracy: 0.8290\n",
            "Epoch 20/30\n",
            "625/625 - 2s - loss: 0.0477 - accuracy: 0.9861 - val_loss: 0.7177 - val_accuracy: 0.8274\n",
            "Epoch 21/30\n",
            "625/625 - 2s - loss: 0.0444 - accuracy: 0.9868 - val_loss: 0.7615 - val_accuracy: 0.8234\n",
            "Epoch 22/30\n",
            "625/625 - 2s - loss: 0.0415 - accuracy: 0.9877 - val_loss: 0.7873 - val_accuracy: 0.8232\n",
            "Epoch 23/30\n",
            "625/625 - 2s - loss: 0.0396 - accuracy: 0.9884 - val_loss: 0.8369 - val_accuracy: 0.8205\n",
            "Epoch 24/30\n",
            "625/625 - 2s - loss: 0.0356 - accuracy: 0.9898 - val_loss: 0.9135 - val_accuracy: 0.8161\n",
            "Epoch 25/30\n",
            "625/625 - 2s - loss: 0.0324 - accuracy: 0.9906 - val_loss: 0.9186 - val_accuracy: 0.8188\n",
            "Epoch 26/30\n",
            "625/625 - 2s - loss: 0.0297 - accuracy: 0.9920 - val_loss: 0.9600 - val_accuracy: 0.8131\n",
            "Epoch 27/30\n",
            "625/625 - 2s - loss: 0.0289 - accuracy: 0.9916 - val_loss: 1.0120 - val_accuracy: 0.8106\n",
            "Epoch 28/30\n",
            "625/625 - 2s - loss: 0.0267 - accuracy: 0.9927 - val_loss: 1.0271 - val_accuracy: 0.8144\n",
            "Epoch 29/30\n",
            "625/625 - 2s - loss: 0.0237 - accuracy: 0.9937 - val_loss: 1.0844 - val_accuracy: 0.8089\n",
            "Epoch 30/30\n",
            "625/625 - 2s - loss: 0.0210 - accuracy: 0.9947 - val_loss: 1.1243 - val_accuracy: 0.8114\n"
          ],
          "name": "stdout"
        }
      ]
    },
    {
      "cell_type": "code",
      "metadata": {
        "id": "YKSJDjp61qvz",
        "colab_type": "code",
        "colab": {
          "base_uri": "https://localhost:8080/",
          "height": 541
        },
        "outputId": "66af7061-321f-4703-cad8-0b8b85c48562"
      },
      "source": [
        "import matplotlib.pyplot as plt\n",
        "\n",
        "\n",
        "def plot_graphs(history, string):\n",
        "  plt.plot(history.history[string])\n",
        "  plt.plot(history.history['val_'+string])\n",
        "  plt.xlabel(\"Epochs\")\n",
        "  plt.ylabel(string)\n",
        "  plt.legend([string, 'val_'+string])\n",
        "  plt.show()\n",
        "  \n",
        "plot_graphs(history, \"accuracy\")\n",
        "plot_graphs(history, \"loss\")"
      ],
      "execution_count": 11,
      "outputs": [
        {
          "output_type": "display_data",
          "data": {
            "image/png": "[encoded data removed]",
            "text/plain": [
              "<Figure size 432x288 with 1 Axes>"
            ]
          },
          "metadata": {
            "tags": [],
            "needs_background": "light"
          }
        },
        {
          "output_type": "display_data",
          "data": {
            "image/png": "[encoded data removed]",
            "text/plain": [
              "<Figure size 432x288 with 1 Axes>"
            ]
          },
          "metadata": {
            "tags": [],
            "needs_background": "light"
          }
        }
      ]
    },
    {
      "cell_type": "code",
      "metadata": {
        "id": "NiERCaye2D7A",
        "colab_type": "code",
        "colab": {
          "base_uri": "https://localhost:8080/",
          "height": 89
        },
        "outputId": "5f73f3ee-512b-41e8-89db-4c3c7d2aef61"
      },
      "source": [
        "reverse_word_index = dict([(value, key) for (key, value) in word_index.items()])\n",
        "\n",
        "def decode_sentence(text):\n",
        "    return ' '.join([reverse_word_index.get(i, '?') for i in text])\n",
        "\n",
        "print(decode_sentence(training_padded[0]))\n",
        "print(training_sentences[2])\n",
        "print(labels[2])"
      ],
      "execution_count": 12,
      "outputs": [
        {
          "output_type": "stream",
          "text": [
            "former <OOV> store clerk sues over secret 'black <OOV> for minority shoppers ? ? ? ? ? ? ? ? ? ? ? ? ? ? ? ? ? ? ? ? ? ? ? ? ? ? ? ? ? ? ? ? ? ? ? ? ? ? ? ? ? ? ? ? ? ? ? ? ? ? ? ? ? ? ? ? ? ? ? ? ? ? ? ? ? ? ? ? ? ? ? ? ? ? ? ? ? ? ? ? ? ? ? ? ? ? ? ?\n",
            "mom starting to fear son's web series closest thing she will have to grandchild\n",
            "1\n"
          ],
          "name": "stdout"
        }
      ]
    },
    {
      "cell_type": "code",
      "metadata": {
        "id": "BE1Ul7Tg2Jfg",
        "colab_type": "code",
        "colab": {
          "base_uri": "https://localhost:8080/",
          "height": 34
        },
        "outputId": "cf75717f-16e7-47a3-f0b2-aaeb52debe00"
      },
      "source": [
        "e = model.layers[0]\n",
        "weights = e.get_weights()[0]\n",
        "print(weights.shape) # shape: (vocab_size, embedding_dim)\n"
      ],
      "execution_count": 13,
      "outputs": [
        {
          "output_type": "stream",
          "text": [
            "(10000, 16)\n"
          ],
          "name": "stdout"
        }
      ]
    },
    {
      "cell_type": "code",
      "metadata": {
        "id": "wzJsECaR2Lbx",
        "colab_type": "code",
        "colab": {
          "base_uri": "https://localhost:8080/",
          "height": 52
        },
        "outputId": "fce70184-3fd4-427d-cce7-07ceb69c80ec"
      },
      "source": [
        "sentence = [\"granny starting to fear spiders in the garden might be real\", \"game of thrones season finale showing this sunday night\"]\n",
        "sequences = tokenizer.texts_to_sequences(sentence)\n",
        "padded = pad_sequences(sequences, maxlen=max_length, padding=padding_type, truncating=trunc_type)\n",
        "print(model.predict(padded))"
      ],
      "execution_count": 14,
      "outputs": [
        {
          "output_type": "stream",
          "text": [
            "[[9.9834174e-01]\n",
            " [1.3306737e-04]]\n"
          ],
          "name": "stdout"
        }
      ]
    },
    {
      "cell_type": "code",
      "metadata": {
        "id": "uJeEAV3o28W4",
        "colab_type": "code",
        "colab": {}
      },
      "source": [
        ""
      ],
      "execution_count": null,
      "outputs": []
    }
  ]
}